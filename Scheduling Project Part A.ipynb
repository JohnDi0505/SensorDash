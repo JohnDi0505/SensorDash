{
 "cells": [
  {
   "cell_type": "code",
   "execution_count": 1,
   "id": "a41af285",
   "metadata": {},
   "outputs": [],
   "source": [
    "import numpy as np\n",
    "import pandas as pd\n",
    "import matplotlib.pyplot as plt"
   ]
  },
  {
   "cell_type": "markdown",
   "id": "bf7daafb",
   "metadata": {},
   "source": [
    "# Visualize Average Number of Rainy Days by Month 2020-2023"
   ]
  },
  {
   "cell_type": "code",
   "execution_count": 2,
   "id": "a24c58d3",
   "metadata": {
    "scrolled": true
   },
   "outputs": [
    {
     "data": {
      "text/html": [
       "<div>\n",
       "<style scoped>\n",
       "    .dataframe tbody tr th:only-of-type {\n",
       "        vertical-align: middle;\n",
       "    }\n",
       "\n",
       "    .dataframe tbody tr th {\n",
       "        vertical-align: top;\n",
       "    }\n",
       "\n",
       "    .dataframe thead th {\n",
       "        text-align: right;\n",
       "    }\n",
       "</style>\n",
       "<table border=\"1\" class=\"dataframe\">\n",
       "  <thead>\n",
       "    <tr style=\"text-align: right;\">\n",
       "      <th></th>\n",
       "      <th>Date</th>\n",
       "      <th>PRCP (Inches)</th>\n",
       "    </tr>\n",
       "  </thead>\n",
       "  <tbody>\n",
       "    <tr>\n",
       "      <th>0</th>\n",
       "      <td>2019-12-01 00:00:00</td>\n",
       "      <td>0.00</td>\n",
       "    </tr>\n",
       "    <tr>\n",
       "      <th>1</th>\n",
       "      <td>2019-12-02 00:00:00</td>\n",
       "      <td>0.72</td>\n",
       "    </tr>\n",
       "    <tr>\n",
       "      <th>2</th>\n",
       "      <td>2019-12-03 00:00:00</td>\n",
       "      <td>0.39</td>\n",
       "    </tr>\n",
       "    <tr>\n",
       "      <th>3</th>\n",
       "      <td>2019-12-04 00:00:00</td>\n",
       "      <td>0.00</td>\n",
       "    </tr>\n",
       "    <tr>\n",
       "      <th>4</th>\n",
       "      <td>2019-12-05 00:00:00</td>\n",
       "      <td>0.03</td>\n",
       "    </tr>\n",
       "    <tr>\n",
       "      <th>...</th>\n",
       "      <td>...</td>\n",
       "      <td>...</td>\n",
       "    </tr>\n",
       "    <tr>\n",
       "      <th>1423</th>\n",
       "      <td>2023-10-26 00:00:00</td>\n",
       "      <td>0.00</td>\n",
       "    </tr>\n",
       "    <tr>\n",
       "      <th>1424</th>\n",
       "      <td>2023-10-27 00:00:00</td>\n",
       "      <td>0.00</td>\n",
       "    </tr>\n",
       "    <tr>\n",
       "      <th>1425</th>\n",
       "      <td>2023-10-28 00:00:00</td>\n",
       "      <td>0.00</td>\n",
       "    </tr>\n",
       "    <tr>\n",
       "      <th>1426</th>\n",
       "      <td>2023-10-29 00:00:00</td>\n",
       "      <td>0.03</td>\n",
       "    </tr>\n",
       "    <tr>\n",
       "      <th>1427</th>\n",
       "      <td>2023-10-30 00:00:00</td>\n",
       "      <td>0.69</td>\n",
       "    </tr>\n",
       "  </tbody>\n",
       "</table>\n",
       "<p>1428 rows × 2 columns</p>\n",
       "</div>"
      ],
      "text/plain": [
       "                     Date  PRCP (Inches)\n",
       "0     2019-12-01 00:00:00           0.00\n",
       "1     2019-12-02 00:00:00           0.72\n",
       "2     2019-12-03 00:00:00           0.39\n",
       "3     2019-12-04 00:00:00           0.00\n",
       "4     2019-12-05 00:00:00           0.03\n",
       "...                   ...            ...\n",
       "1423  2023-10-26 00:00:00           0.00\n",
       "1424  2023-10-27 00:00:00           0.00\n",
       "1425  2023-10-28 00:00:00           0.00\n",
       "1426  2023-10-29 00:00:00           0.03\n",
       "1427  2023-10-30 00:00:00           0.69\n",
       "\n",
       "[1428 rows x 2 columns]"
      ]
     },
     "execution_count": 2,
     "metadata": {},
     "output_type": "execute_result"
    }
   ],
   "source": [
    "data = pd.read_csv(\"NOAA_precipitation_data.csv\", skiprows=1)\n",
    "noaa = data.iloc[:, [0, 4]]\n",
    "noaa.dropna\n",
    "noaa.loc[:, 'Date'] = pd.to_datetime(noaa.loc[:, 'Date'])\n",
    "noaa"
   ]
  },
  {
   "cell_type": "code",
   "execution_count": 3,
   "id": "fba8680d",
   "metadata": {
    "scrolled": true
   },
   "outputs": [],
   "source": [
    "PRCP = {}\n",
    "for i in noaa.index:\n",
    "    y = noaa.loc[i, \"Date\"].year\n",
    "    m = noaa.loc[i, \"Date\"].month\n",
    "    prcp = noaa.loc[i, \"PRCP (Inches)\"]\n",
    "    if y not in PRCP.keys():\n",
    "        PRCP[y] = {}\n",
    "    if m not in PRCP[y].keys():\n",
    "        PRCP[y][m] = []\n",
    "    PRCP[y][m].append(prcp)"
   ]
  },
  {
   "cell_type": "code",
   "execution_count": 4,
   "id": "b5603666",
   "metadata": {
    "scrolled": true
   },
   "outputs": [],
   "source": [
    "summary_PRCP = {}\n",
    "summary_PRCP = summary_PRCP.fromkeys(PRCP.keys(), {})\n",
    "\n",
    "for y in summary_PRCP.keys():\n",
    "    summary_PRCP[y] = summary_PRCP[y].fromkeys(PRCP[y])\n",
    "    for m in summary_PRCP[y].keys():\n",
    "        temp = np.array(PRCP[y][m])\n",
    "        num_prcp = np.where(np.array(PRCP[y][m]) >= 0.1)[0].shape[0]\n",
    "        summary_PRCP[y][m] = num_prcp"
   ]
  },
  {
   "cell_type": "code",
   "execution_count": 5,
   "id": "a02b988d",
   "metadata": {},
   "outputs": [
    {
     "data": {
      "text/html": [
       "<div>\n",
       "<style scoped>\n",
       "    .dataframe tbody tr th:only-of-type {\n",
       "        vertical-align: middle;\n",
       "    }\n",
       "\n",
       "    .dataframe tbody tr th {\n",
       "        vertical-align: top;\n",
       "    }\n",
       "\n",
       "    .dataframe thead th {\n",
       "        text-align: right;\n",
       "    }\n",
       "</style>\n",
       "<table border=\"1\" class=\"dataframe\">\n",
       "  <thead>\n",
       "    <tr style=\"text-align: right;\">\n",
       "      <th></th>\n",
       "      <th>2020</th>\n",
       "      <th>2021</th>\n",
       "      <th>2022</th>\n",
       "      <th>2023</th>\n",
       "    </tr>\n",
       "  </thead>\n",
       "  <tbody>\n",
       "    <tr>\n",
       "      <th>12</th>\n",
       "      <td>7</td>\n",
       "      <td>9</td>\n",
       "      <td>8</td>\n",
       "      <td>NaN</td>\n",
       "    </tr>\n",
       "    <tr>\n",
       "      <th>1</th>\n",
       "      <td>4</td>\n",
       "      <td>5</td>\n",
       "      <td>7</td>\n",
       "      <td>9.0</td>\n",
       "    </tr>\n",
       "    <tr>\n",
       "      <th>2</th>\n",
       "      <td>9</td>\n",
       "      <td>10</td>\n",
       "      <td>8</td>\n",
       "      <td>4.0</td>\n",
       "    </tr>\n",
       "    <tr>\n",
       "      <th>3</th>\n",
       "      <td>9</td>\n",
       "      <td>4</td>\n",
       "      <td>8</td>\n",
       "      <td>7.0</td>\n",
       "    </tr>\n",
       "    <tr>\n",
       "      <th>4</th>\n",
       "      <td>9</td>\n",
       "      <td>5</td>\n",
       "      <td>8</td>\n",
       "      <td>8.0</td>\n",
       "    </tr>\n",
       "    <tr>\n",
       "      <th>5</th>\n",
       "      <td>7</td>\n",
       "      <td>8</td>\n",
       "      <td>9</td>\n",
       "      <td>2.0</td>\n",
       "    </tr>\n",
       "    <tr>\n",
       "      <th>6</th>\n",
       "      <td>6</td>\n",
       "      <td>8</td>\n",
       "      <td>6</td>\n",
       "      <td>8.0</td>\n",
       "    </tr>\n",
       "    <tr>\n",
       "      <th>7</th>\n",
       "      <td>8</td>\n",
       "      <td>10</td>\n",
       "      <td>3</td>\n",
       "      <td>11.0</td>\n",
       "    </tr>\n",
       "    <tr>\n",
       "      <th>8</th>\n",
       "      <td>12</td>\n",
       "      <td>6</td>\n",
       "      <td>6</td>\n",
       "      <td>9.0</td>\n",
       "    </tr>\n",
       "    <tr>\n",
       "      <th>9</th>\n",
       "      <td>4</td>\n",
       "      <td>8</td>\n",
       "      <td>7</td>\n",
       "      <td>11.0</td>\n",
       "    </tr>\n",
       "    <tr>\n",
       "      <th>10</th>\n",
       "      <td>6</td>\n",
       "      <td>7</td>\n",
       "      <td>9</td>\n",
       "      <td>5.0</td>\n",
       "    </tr>\n",
       "    <tr>\n",
       "      <th>11</th>\n",
       "      <td>6</td>\n",
       "      <td>2</td>\n",
       "      <td>5</td>\n",
       "      <td>NaN</td>\n",
       "    </tr>\n",
       "  </tbody>\n",
       "</table>\n",
       "</div>"
      ],
      "text/plain": [
       "    2020  2021  2022  2023\n",
       "12     7     9     8   NaN\n",
       "1      4     5     7   9.0\n",
       "2      9    10     8   4.0\n",
       "3      9     4     8   7.0\n",
       "4      9     5     8   8.0\n",
       "5      7     8     9   2.0\n",
       "6      6     8     6   8.0\n",
       "7      8    10     3  11.0\n",
       "8     12     6     6   9.0\n",
       "9      4     8     7  11.0\n",
       "10     6     7     9   5.0\n",
       "11     6     2     5   NaN"
      ]
     },
     "execution_count": 5,
     "metadata": {},
     "output_type": "execute_result"
    }
   ],
   "source": [
    "summary_PRCP_df = pd.DataFrame(summary_PRCP).iloc[:, 1:]\n",
    "summary_PRCP_df"
   ]
  },
  {
   "cell_type": "code",
   "execution_count": 6,
   "id": "82302965",
   "metadata": {
    "scrolled": false
   },
   "outputs": [
    {
     "data": {
      "image/png": "[encoded data removed]",
      "text/plain": [
       "<Figure size 800x600 with 1 Axes>"
      ]
     },
     "metadata": {},
     "output_type": "display_data"
    }
   ],
   "source": [
    "width = 0.15  # the width of the bars\n",
    "\n",
    "fig, ax = plt.subplots(layout='constrained', figsize=(8, 6))\n",
    "\n",
    "avg_lst = []\n",
    "\n",
    "col_lst = ['pink', 'orange', 'grey', 'purple']\n",
    "\n",
    "for m in summary_PRCP_df.index:\n",
    "    avg = summary_PRCP_df.loc[m, :].mean()\n",
    "    avg_lst.append(avg)\n",
    "    \n",
    "    multiplier = 0\n",
    "    for y in summary_PRCP_df.columns:\n",
    "    \n",
    "        offset = width * multiplier\n",
    "        rects = ax.bar(m - 1 - 0.225 + offset, summary_PRCP_df.loc[m, y], width, color=col_lst[multiplier], label=y if (m == 1) else \"\")\n",
    "        multiplier += 1\n",
    "\n",
    "a = avg_lst[0]\n",
    "b = avg_lst[1:]\n",
    "b.append(a)\n",
    "\n",
    "ax.plot(b, '--ko')\n",
    "\n",
    "for i in range(len(b)):\n",
    "    ax.annotate(round(b[i], 2), (i - 0.15, b[i] + 0.2), weight='bold')\n",
    "\n",
    "ax.set_ylim([0, 13.5])\n",
    "ax.set_xticks(np.arange(0, 12))\n",
    "ax.set_xticklabels(np.arange(1, 13))\n",
    "\n",
    "ax.set_title(\"Average Number of Rainy Days (Precipitation >0.1 inches) by Month (2020-2023 NOAA)\")\n",
    "ax.set_ylabel(\"Precipitation (inches)\")\n",
    "ax.legend(loc='upper left', ncols=4)\n",
    "plt.show()"
   ]
  },
  {
   "cell_type": "markdown",
   "id": "50ddb63a",
   "metadata": {},
   "source": [
    "# Generate Ramdom Rainy Dates from 11/01/2023"
   ]
  },
  {
   "cell_type": "code",
   "execution_count": 7,
   "id": "876c7327",
   "metadata": {},
   "outputs": [
    {
     "data": {
      "text/plain": [
       "array([7, 8, 7, 8, 7, 7, 8, 9, 8, 7, 5, 8])"
      ]
     },
     "execution_count": 7,
     "metadata": {},
     "output_type": "execute_result"
    }
   ],
   "source": [
    "num_rainy_days = np.ceil(b).astype(int)\n",
    "num_rainy_days"
   ]
  },
  {
   "cell_type": "code",
   "execution_count": 8,
   "id": "86128124",
   "metadata": {},
   "outputs": [],
   "source": [
    "from datetime import datetime\n",
    "from datetime import timedelta"
   ]
  },
  {
   "cell_type": "code",
   "execution_count": 9,
   "id": "3e74fdf7",
   "metadata": {},
   "outputs": [],
   "source": [
    "seed = 6\n",
    "\n",
    "increment = timedelta(days=1)\n",
    "\n",
    "start_date = datetime(2023, 11, 1)\n",
    "end_date = datetime(2025, 10, 31)"
   ]
  },
  {
   "cell_type": "code",
   "execution_count": 10,
   "id": "a96d2783",
   "metadata": {},
   "outputs": [],
   "source": [
    "rain_dict = {}\n",
    "\n",
    "cursor_date = start_date\n",
    "\n",
    "while cursor_date <= end_date:\n",
    "    \n",
    "    y = cursor_date.year\n",
    "    if not y in rain_dict.keys():\n",
    "        rain_dict[y] = {}\n",
    "        \n",
    "    m = cursor_date.month\n",
    "    if not m in rain_dict[y].keys():\n",
    "        rain_dict[y][m] = {\"date\":[], \"rain_status\":[]}\n",
    "        \n",
    "    rain_dict[y][m][\"date\"].append(cursor_date)\n",
    "    rain_dict[y][m][\"rain_status\"].append(0)\n",
    "    \n",
    "    cursor_date += increment"
   ]
  },
  {
   "cell_type": "code",
   "execution_count": 11,
   "id": "5e31f8b5",
   "metadata": {},
   "outputs": [],
   "source": [
    "np.random.seed(seed)\n",
    "\n",
    "for y in rain_dict.keys():\n",
    "    for i in range(len(num_rainy_days)):\n",
    "        try:\n",
    "            total_days = len(rain_dict[y][i+1]['rain_status'])\n",
    "            rain_dict[y][i+1]['rain_day_indices'] = np.random.choice(total_days, num_rainy_days[i], replace=False)\n",
    "        except:\n",
    "            pass"
   ]
  },
  {
   "cell_type": "code",
   "execution_count": 12,
   "id": "4aea28b4",
   "metadata": {},
   "outputs": [
    {
     "data": {
      "text/plain": [
       "array([datetime.datetime(2025, 5, 23, 0, 0),\n",
       "       datetime.datetime(2025, 5, 1, 0, 0),\n",
       "       datetime.datetime(2025, 5, 21, 0, 0),\n",
       "       datetime.datetime(2025, 5, 25, 0, 0),\n",
       "       datetime.datetime(2025, 5, 3, 0, 0),\n",
       "       datetime.datetime(2025, 5, 27, 0, 0),\n",
       "       datetime.datetime(2025, 5, 5, 0, 0)], dtype=object)"
      ]
     },
     "execution_count": 12,
     "metadata": {},
     "output_type": "execute_result"
    }
   ],
   "source": [
    "year = 2025\n",
    "month = 5\n",
    "rainy_day_indices = rain_dict[year][month]['rain_day_indices']\n",
    "rainy_day = np.array(rain_dict[year][month]['date'])[rainy_day_indices]\n",
    "rainy_day"
   ]
  },
  {
   "cell_type": "markdown",
   "id": "a68f2c8b",
   "metadata": {},
   "source": [
    "# Calculate Duration"
   ]
  },
  {
   "cell_type": "code",
   "execution_count": 13,
   "id": "c5d55959",
   "metadata": {},
   "outputs": [
    {
     "data": {
      "text/plain": [
       "datetime.timedelta(days=134)"
      ]
     },
     "execution_count": 13,
     "metadata": {},
     "output_type": "execute_result"
    }
   ],
   "source": [
    "start = datetime(2024, 10, 30)\n",
    "end = datetime(2025, 3, 13)\n",
    "\n",
    "span = end - start\n",
    "span"
   ]
  }
 ],
 "metadata": {
  "kernelspec": {
   "display_name": "Python 3 (ipykernel)",
   "language": "python",
   "name": "python3"
  },
  "language_info": {
   "codemirror_mode": {
    "name": "ipython",
    "version": 3
   },
   "file_extension": ".py",
   "mimetype": "text/x-python",
   "name": "python",
   "nbconvert_exporter": "python",
   "pygments_lexer": "ipython3",
   "version": "3.10.10"
  }
 },
 "nbformat": 4,
 "nbformat_minor": 5
}
